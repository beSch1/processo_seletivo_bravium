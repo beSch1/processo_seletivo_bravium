{
  "nbformat": 4,
  "nbformat_minor": 0,
  "metadata": {
    "colab": {
      "provenance": [],
      "gpuType": "A100"
    },
    "kernelspec": {
      "name": "python3",
      "display_name": "Python 3"
    },
    "language_info": {
      "name": "python"
    },
    "accelerator": "GPU"
  },
  "cells": [
    {
      "cell_type": "code",
      "execution_count": 1,
      "metadata": {
        "id": "TREdN48gFFD4"
      },
      "outputs": [],
      "source": [
        "# Importação de bibliotecas básicas para a Introdução.\n",
        "\n",
        "import pandas as pd\n",
        "import matplotlib.pyplot as plt\n",
        "import seaborn as sns\n",
        "import numpy as np\n",
        "import kagglehub\n",
        "from kagglehub import KaggleDatasetAdapter\n",
        "from wordcloud import WordCloud\n",
        "\n",
        "pd.options.display.max_colwidth = 100"
      ]
    },
    {
      "cell_type": "markdown",
      "source": [
        "# Introdução ao Problema\n",
        "\n",
        "Neste desafio, queremos desenvolver métodos de classificação para identificar se uma review de um produto é positiva ou negativa, baseados na nota de 1 a 5 dada pelo usuário e o texto da review.\n",
        "\n",
        "Para alcançar esse objetivo, diversas abordagens são possíveis, algumas simples, como apenas considerando a nota, e outras mais complexas, como utilizar modelos de Análise de Sentimento sobre o texto das reviews.\n",
        "\n",
        "Primeiro, vamos dar uma olhada nos banco de dados a nossa disposição."
      ],
      "metadata": {
        "id": "oDPU2dfeFYW3"
      }
    },
    {
      "cell_type": "code",
      "source": [
        "df = kagglehub.dataset_load(KaggleDatasetAdapter.PANDAS, \"olistbr/brazilian-ecommerce\", \"olist_order_reviews_dataset.csv\")\n",
        "\n",
        "print(df.head())"
      ],
      "metadata": {
        "colab": {
          "base_uri": "https://localhost:8080/"
        },
        "id": "cc3CrvOEG15z",
        "outputId": "a11c1e12-5122-4337-99d4-1e4a5d458825"
      },
      "execution_count": 2,
      "outputs": [
        {
          "output_type": "stream",
          "name": "stdout",
          "text": [
            "                          review_id                          order_id  \\\n",
            "0  7bc2406110b926393aa56f80a40eba40  73fc7af87114b39712e6da79b0a377eb   \n",
            "1  80e641a11e56f04c1ad469d5645fdfde  a548910a1c6147796b98fdf73dbeba33   \n",
            "2  228ce5500dc1d8e020d8d1322874b6f0  f9e4b658b201a9f2ecdecbb34bed034b   \n",
            "3  e64fb393e7b32834bb789ff8bb30750e  658677c97b385a9be170737859d3511b   \n",
            "4  f7c4243c7fe1938f181bec41a392bdeb  8e6bfb81e283fa7e4f11123a3fb894f1   \n",
            "\n",
            "   review_score review_comment_title  \\\n",
            "0             4                  NaN   \n",
            "1             5                  NaN   \n",
            "2             5                  NaN   \n",
            "3             5                  NaN   \n",
            "4             5                  NaN   \n",
            "\n",
            "                                                                                review_comment_message  \\\n",
            "0                                                                                                  NaN   \n",
            "1                                                                                                  NaN   \n",
            "2                                                                                                  NaN   \n",
            "3                                                                Recebi bem antes do prazo estipulado.   \n",
            "4  Parabéns lojas lannister adorei comprar pela Internet seguro e prático Parabéns a todos feliz Pá...   \n",
            "\n",
            "  review_creation_date review_answer_timestamp  \n",
            "0  2018-01-18 00:00:00     2018-01-18 21:46:59  \n",
            "1  2018-03-10 00:00:00     2018-03-11 03:05:13  \n",
            "2  2018-02-17 00:00:00     2018-02-18 14:36:24  \n",
            "3  2017-04-21 00:00:00     2017-04-21 22:02:06  \n",
            "4  2018-03-01 00:00:00     2018-03-02 10:26:53  \n"
          ]
        }
      ]
    },
    {
      "cell_type": "markdown",
      "source": [
        "Vamos primeiro fazer uma pequena análise exploratória dos nossos dados. Podemos começar plotando um histograma das notas."
      ],
      "metadata": {
        "id": "t6jvtIwF2x2D"
      }
    },
    {
      "cell_type": "code",
      "source": [
        "sns.histplot(df['review_score'], bins=5)"
      ],
      "metadata": {
        "colab": {
          "base_uri": "https://localhost:8080/",
          "height": 472
        },
        "id": "kplBNjiN2kfL",
        "outputId": "9b042ad6-3114-4147-fe8c-2b9f62bd9b9f"
      },
      "execution_count": 3,
      "outputs": [
        {
          "output_type": "execute_result",
          "data": {
            "text/plain": [
              "<Axes: xlabel='review_score', ylabel='Count'>"
            ]
          },
          "metadata": {},
          "execution_count": 3
        },
        {
          "output_type": "display_data",
          "data": {
            "text/plain": [
              "<Figure size 640x480 with 1 Axes>"
            ],
            "image/png": "[encoded data removed]"
          },
          "metadata": {}
        }
      ]
    },
    {
      "cell_type": "markdown",
      "source": [
        "# Análise das Notas das Reviews\n",
        "\n",
        "Com o dataframe em mãos, podemos partir para a primeira abordagem que proponho, utilizando puramente as notas das reviews. Isso pode tanto servir como uma análise básica por si só, quanto será necessário para termos labels para treinar nosso modelo de Análise de Sentimento na etapa mais avançada.\n",
        "\n",
        "Em geral, é seguro considerar que notas 1 e 2 caracterizam reviews negativas, 3 caracteriza uma avaliação neutra, e 4 e 5 são atribuidas a reviews positivas. No entanto, essa abordagem nunca será 100% precisa, pois a nota que cada indivíduo dá para uma avaliação é altamente subjetiva. Existem pessoas que de fato atribuem uma nota 3 à um produto mediano, mas neste mesmo dataframe é possível encontrar reviews tanto positivas quanto negativas com notas 3. Exemplos abaixo:"
      ],
      "metadata": {
        "id": "UnsygNYAKRAM"
      }
    },
    {
      "cell_type": "code",
      "source": [
        "review_positiva = df[df['review_id'] == '4656b8ed41c17f6be05e911e211ecd8f'].copy()\n",
        "review_negativa = df[df['review_id'] == 'ef9ef383ff6625e8e118db388ad3420d'].copy()\n",
        "\n",
        "print(f\"Review positiva de Nota 3: \\n Título: {review_positiva['review_comment_title'].to_string(index=False)} \\n Mensagem: {review_positiva['review_comment_message'].to_string(index=False)}\")\n",
        "print()\n",
        "print(f\"Review negativa de Nota 3: \\n Título: {review_negativa['review_comment_title'].to_string(index=False)} \\n Mensagem: {review_negativa['review_comment_message'].to_string(index=False)}\")"
      ],
      "metadata": {
        "colab": {
          "base_uri": "https://localhost:8080/"
        },
        "id": "AFoTA1gAMBXk",
        "outputId": "facca3c7-c8a3-45d6-bc9c-2630a02682e0"
      },
      "execution_count": 5,
      "outputs": [
        {
          "output_type": "stream",
          "name": "stdout",
          "text": [
            "Review positiva de Nota 3: \n",
            " Título: recomendo \n",
            " Mensagem: Comecei a usar agora \n",
            "\n",
            "Review negativa de Nota 3: \n",
            " Título: Insatisfeito \n",
            " Mensagem: No site o produto parece ter melhor qualidade de material e acabamento.\n"
          ]
        }
      ]
    },
    {
      "cell_type": "markdown",
      "source": [
        "\n",
        "Tendo isso em mente, se quisermos ser mais precisos, seria mais adequado classificar a nota 3 como \"Inconclusiva\", dado que tais inconsistências são frequentes.\n",
        "\n",
        "Seguindo em frente, podemos então adicionar uma coluna \"review_label\" no dataframe, que terá valor 0 se a review tiver uma nota negativa (1 ou 2), e valor 1 se a review tiver uma nota positiva (4 ou 5)."
      ],
      "metadata": {
        "id": "LSej5GJtPLFz"
      }
    },
    {
      "cell_type": "code",
      "source": [
        "def categorize_polarity(score):\n",
        "  if score >= 4:\n",
        "    return 1\n",
        "  elif score <= 2:\n",
        "    return 0\n",
        "  else:\n",
        "    return np.nan\n",
        "\n",
        "df['review_label'] = df['review_score'].apply(categorize_polarity)"
      ],
      "metadata": {
        "id": "Xi8RimYlPYhu"
      },
      "execution_count": 6,
      "outputs": []
    },
    {
      "cell_type": "markdown",
      "source": [
        "Vamos também ver uma pie chart das nossas novas labels, junto de seus valores absolutos, para visualizar o que obtivemos."
      ],
      "metadata": {
        "id": "Uy_rf_CwlKAa"
      }
    },
    {
      "cell_type": "code",
      "source": [
        "print(f\"Positivas: {df['review_label'].value_counts()[1]} \\nNegativas: {df['review_label'].value_counts()[0]}\")\n",
        "\n",
        "plt.pie(df['review_label'].value_counts(), labels=['Positiva', 'Negativa'], autopct='%1.1f%%')\n",
        "plt.show()"
      ],
      "metadata": {
        "colab": {
          "base_uri": "https://localhost:8080/",
          "height": 442
        },
        "id": "V1NP7ArWkw4H",
        "outputId": "e5c84697-394e-4297-c63a-ca979d90543b"
      },
      "execution_count": 7,
      "outputs": [
        {
          "output_type": "stream",
          "name": "stdout",
          "text": [
            "Positivas: 76470 \n",
            "Negativas: 14575\n"
          ]
        },
        {
          "output_type": "display_data",
          "data": {
            "text/plain": [
              "<Figure size 640x480 with 1 Axes>"
            ],
            "image/png": "[encoded data removed]"
          },
          "metadata": {}
        }
      ]
    },
    {
      "cell_type": "markdown",
      "source": [
        "Isso por si só já seria uma maneira de classificar as reviews. No entanto, obviamente não estamos satisfeitos com isso. Esse método, na verdade, é apenas uma etapa preparatória para o que vamos começar em seguida, utilizando um modelo de Inteligência Artificial de Análise de Sentimento para percorrer as reviews."
      ],
      "metadata": {
        "id": "afXtaGatv7_-"
      }
    },
    {
      "cell_type": "markdown",
      "source": [
        "# Modelo de Análise Sentimental\n",
        "\n",
        "Tendo classificado as reviews em positiva ou negativa, podemos partir para a implementação de um modelo básico de Análise Sentimental utilizando transformadores. O modelo escolhido para essa tarefa é o *BERTimbau*, por ser um modelo conhecido e robusto para NLP em português.\n",
        "\n",
        "## Etapa 1: Pré-Processamento\n",
        "\n",
        "Primeiramente, precisamos pré-processamento dos dados para essa tarefa específica. Realizaremos as seguintes etapas:\n",
        "\n",
        "- Limpar e formatar o texto para melhor interpretação pelo modelo.\n",
        "- Criação do nosso Dataset, Dataloaders e Tokenização."
      ],
      "metadata": {
        "id": "S__S36R9md7s"
      }
    },
    {
      "cell_type": "markdown",
      "source": [
        "Vamos começar realizando a formatação básica das nossas reviews.\n",
        "\n",
        "Primeiro, removemos as reviews sem label, pois serão inúteis no treinamento. Em seguida, concatenamos o título e o texto de cada review em uma nova coluna, pois ambos possuem informações importantes para o nosso modelo.\n",
        "\n",
        "Em seguida, removemos as reviews que não tem texto."
      ],
      "metadata": {
        "id": "n_tKOwZtDO0V"
      }
    },
    {
      "cell_type": "code",
      "source": [
        "df = df[['review_comment_title', 'review_comment_message', 'review_label']].dropna(subset=['review_label']) # Removemos reviews sem label positiva ou negativa (Nota 3)\n",
        "df['full_review'] = df['review_comment_title'].fillna('') + ' ' + df['review_comment_message'].fillna('') # Concatenando o título e o texto da review.\n",
        "df = df[df['full_review'] != ' '] # Removendo reviews que não possuem texto."
      ],
      "metadata": {
        "id": "TR1B_f7KtDil"
      },
      "execution_count": 8,
      "outputs": []
    },
    {
      "cell_type": "code",
      "source": [
        "# Convertendo emojis em texto para poderem ser interpretados pelo modelo mais facilmente.\n",
        "\n",
        "import emoji\n",
        "import re\n",
        "\n",
        "def limpa_texto(texto):\n",
        "  texto = emoji.demojize(texto, language='pt')\n",
        "  texto = texto.replace('\\n', ' ').replace('\\r', ' ').replace('\\t', ' ') # Removendo caracteres como quebra linhas e tabs, caso estejam presentes.\n",
        "  texto = re.sub(r'\\s+', ' ', texto).strip() #\n",
        "  return texto\n",
        "\n",
        "df['full_review'] = df['full_review'].apply(limpa_texto)"
      ],
      "metadata": {
        "id": "8Q5N3o7itfED"
      },
      "execution_count": 9,
      "outputs": []
    },
    {
      "cell_type": "markdown",
      "source": [
        "Agora, precisamos definir e baixar o nosso tokenizer. Utilizando o nome do modelo no Hugging Face Hub, conseguimos extrair o tokenizer a partir da biblioteca `transformer`. O tokenizer é uma função que transforma nosso texto em *tokens* e os mapeia em um vocabulário para que possam ser acessados e interpretados pelo nosso modelo."
      ],
      "metadata": {
        "id": "yI2L-C7WDqL3"
      }
    },
    {
      "cell_type": "code",
      "source": [
        "from transformers import AutoTokenizer\n",
        "\n",
        "MODEL_NAME = 'neuralmind/bert-base-portuguese-cased'\n",
        "\n",
        "tokenizer = AutoTokenizer.from_pretrained(MODEL_NAME)"
      ],
      "metadata": {
        "id": "CQi_5PrRxQJB"
      },
      "execution_count": null,
      "outputs": []
    },
    {
      "cell_type": "markdown",
      "source": [
        "Em seguida, definimos a nossa classe `ReviewDataset`. Essa etapa é necessária para que nossos dados estejam em um formato fácil e eficiente de serem acessados pelo nosso modelo.\n",
        "\n",
        "Cada elemento da classe guarda um grupo de reviews, quando o nosso modelo acessar um item do dataset, apenas aquele item será tokenizado e fornecido no formato certo para o modelo. Isso garante que o processamento intenso ocorra apenas quando necessário e para a review que está sendo utilizada."
      ],
      "metadata": {
        "id": "WoQfDzrKEdz4"
      }
    },
    {
      "cell_type": "code",
      "source": [
        "# Definindo nossa classe de Dataset para que os dados estejam no formato adequado para o modelo.\n",
        "\n",
        "import torch\n",
        "\n",
        "class ReviewDataset(torch.utils.data.Dataset):\n",
        "\n",
        "  def __init__(self, texts, labels, tokenizer, max_len):\n",
        "    self.texts = texts\n",
        "    self.labels = labels\n",
        "    self.tokenizer = tokenizer\n",
        "    self.max_len = max_len\n",
        "\n",
        "  def __len__(self):\n",
        "    return len(self.texts)\n",
        "\n",
        "  def __getitem__(self, item):\n",
        "    text = str(self.texts[item])\n",
        "    label = self.labels[item]\n",
        "\n",
        "    encoding = self.tokenizer.encode_plus(\n",
        "            text,\n",
        "            add_special_tokens=True,\n",
        "            max_length=self.max_len,\n",
        "            return_token_type_ids=False,\n",
        "            padding='max_length',\n",
        "            truncation=True,\n",
        "            return_attention_mask=True,\n",
        "            return_tensors='pt',\n",
        "    )\n",
        "\n",
        "    return {\n",
        "        'review_text': text,\n",
        "        'input_ids': encoding['input_ids'].flatten(),\n",
        "        'attention_mask': encoding['attention_mask'].flatten(),\n",
        "        'label': torch.tensor(label, dtype=torch.long)\n",
        "    }"
      ],
      "metadata": {
        "id": "dRuV24_HxSAk"
      },
      "execution_count": 11,
      "outputs": []
    },
    {
      "cell_type": "markdown",
      "source": [
        "E para finalizar nosso pré-processamento, iremos separar nossos dados em um split de treino e um split de validação. É importante que eles estejam totalmente separados para que nossa validação do modelo seja adequada. Neste caso, separei 80% dos dados para treino, e 20% para validação.\n",
        "\n",
        "Em seguida, definimos nossos `DataLoaders`, que são funções responsáveis por enviar nossos dados em *batches* para serem processados. Defini `BATCH_SIZE` como 32 por ser um valor padrão para atingir boa precisão. Batches maiores podem utilizar mais memória da GPU para ter tempos de processamento menores, mas acabam sacrificando precisão do modelo."
      ],
      "metadata": {
        "id": "p3mEk0ZcFSsN"
      }
    },
    {
      "cell_type": "code",
      "source": [
        "from sklearn.model_selection import train_test_split\n",
        "from torch.utils.data import DataLoader\n",
        "\n",
        "MAX_LEN = 256\n",
        "BATCH_SIZE = 32\n",
        "\n",
        "df_train, df_val = train_test_split(\n",
        "    df,\n",
        "    test_size=0.2,\n",
        "    random_state=42,\n",
        "    stratify=df['review_label']\n",
        ")\n",
        "\n",
        "train_dataset = ReviewDataset(\n",
        "    texts=df_train['full_review'].to_numpy(),\n",
        "    labels=df_train['review_label'].to_numpy(),\n",
        "    tokenizer=tokenizer,\n",
        "    max_len=MAX_LEN\n",
        ")\n",
        "\n",
        "val_dataset = ReviewDataset(\n",
        "    texts=df_val['full_review'].to_numpy(),\n",
        "    labels=df_val['review_label'].to_numpy(),\n",
        "    tokenizer=tokenizer,\n",
        "    max_len=MAX_LEN\n",
        ")\n",
        "\n",
        "train_data_loader = DataLoader(\n",
        "    train_dataset,\n",
        "    batch_size=BATCH_SIZE,\n",
        "    shuffle=True,\n",
        "    num_workers=4\n",
        ")\n",
        "\n",
        "val_data_loader = DataLoader(\n",
        "    val_dataset,\n",
        "    batch_size=BATCH_SIZE,\n",
        "    num_workers=4\n",
        ")"
      ],
      "metadata": {
        "id": "1_-_k6Sg0afO"
      },
      "execution_count": 12,
      "outputs": []
    },
    {
      "cell_type": "markdown",
      "source": [
        "E com isso, nosso pré-processamento dos dados está finalizado. Nossos dados agora estão:\n",
        "- Limpos e bem formatados.\n",
        "- Tokenizados de acordo com o vocabulário do nosso modelo escolhido, BERTimbau.\n",
        "- Organizados em DataLoaders, prontos para serem enviados pro treinamento."
      ],
      "metadata": {
        "id": "hIQpLdb5Gi32"
      }
    },
    {
      "cell_type": "markdown",
      "source": [
        "## Etapa 2: Treinamento\n",
        "\n",
        "Agora, iniciaremos a parte mais importante, o treinamento do nosso modelo. Nessa etapa, iremos inicializar o modelo, nossos *otimizador* e *scheduler*, e por fim, nossas funções centrais `train_epoch` e `eval_model`. Então, tudo será utilizado no nosso loop de treinamento, que percorrerá pelas nossas `EPOCHS`, trainando o modelo e avaliando-o a cada passo."
      ],
      "metadata": {
        "id": "YTL99ipeHnMY"
      }
    },
    {
      "cell_type": "code",
      "source": [
        "device = torch.device(\"cuda\") # Especificamos que o nosso modelo irá utilizar a GPU."
      ],
      "metadata": {
        "id": "g-zgIwoaIWcq"
      },
      "execution_count": 13,
      "outputs": []
    },
    {
      "cell_type": "markdown",
      "source": [
        "Começamos inicializando nosso `model` a partir do modelo que já haviamos escolhido, o *BERTimbau*."
      ],
      "metadata": {
        "id": "UgrKK_ePiTZk"
      }
    },
    {
      "cell_type": "code",
      "source": [
        "from transformers import BertForSequenceClassification\n",
        "\n",
        "model = BertForSequenceClassification.from_pretrained(\n",
        "    MODEL_NAME, # Já haviamos definido o nome do modelo antes.\n",
        "    num_labels=2, # Classificação binária.\n",
        "    output_attentions=False,\n",
        "    output_hidden_states=False\n",
        ")\n",
        "\n",
        "model = model.to(device)"
      ],
      "metadata": {
        "id": "8OEIbJ7_IjBy"
      },
      "execution_count": null,
      "outputs": []
    },
    {
      "cell_type": "markdown",
      "source": [
        "Em seguida, selecionamos nossos números de `EPOCHS` e `learning_rate`. Defini 4 épocas para atingir boa precisão, e uma taxa de aprendizagem padrão de $2 \\cdot 10^{-5}$.  `optimizer` e `scheduler`. Para o otimizador, que é a função/método de otimização não-linear responsável pelo ajuste de pesos da rede neural, escolhi o `AdamW`. Já nosso agendador irá controlar o tamanho do passo de aprendizagem, dando passos maiores no início e diminuindo gradualmente."
      ],
      "metadata": {
        "id": "4fvp55jZiSiP"
      }
    },
    {
      "cell_type": "code",
      "source": [
        "from transformers import Adafactor, get_linear_schedule_with_warmup\n",
        "\n",
        "EPOCHS = 4\n",
        "learning_rate = 2e-5\n",
        "\n",
        "optimizer = Adafactor(model.parameters(), lr=learning_rate, relative_step=False)\n",
        "\n",
        "total_steps = len(train_data_loader) * EPOCHS\n",
        "\n",
        "scheduler = get_linear_schedule_with_warmup(\n",
        "    optimizer,\n",
        "    num_warmup_steps=0,\n",
        "    num_training_steps=total_steps\n",
        ")"
      ],
      "metadata": {
        "id": "y4ek7lroa9qv"
      },
      "execution_count": 15,
      "outputs": []
    },
    {
      "cell_type": "markdown",
      "source": [
        "Agora, definimos duas funções.\n",
        "- `train_epoch`: Executa uma época de treinamento.\n",
        "- `eval_model`: Avalia o desempenho do modelo no conjunto de validação."
      ],
      "metadata": {
        "id": "9oarfQMPju3g"
      }
    },
    {
      "cell_type": "code",
      "source": [
        "from sklearn.metrics import accuracy_score, f1_score\n",
        "\n",
        "def train_epoch(model, data_loader, optimizer, device, scheduler):\n",
        "  model = model.train() # Inicia o modo de treinamento.\n",
        "  losses_list = []\n",
        "\n",
        "  for d in data_loader: # Percorre cada batch do nosso DataLoader.\n",
        "    input_ids = d[\"input_ids\"].to(device)\n",
        "    attention_mask = d[\"attention_mask\"].to(device)\n",
        "    labels = d[\"label\"].to(device)\n",
        "\n",
        "    outputs = model( # Passa as entradas pelo modelo e obtém os resultados.\n",
        "        input_ids=input_ids,\n",
        "        attention_mask=attention_mask,\n",
        "        labels=labels\n",
        "    )\n",
        "\n",
        "    loss = outputs.loss # Extrai a função perda do teste.\n",
        "    losses_list.append(loss.item())\n",
        "\n",
        "    loss.backward() # Backpropagation.\n",
        "\n",
        "    torch.nn.utils.clip_grad_norm_(model.parameters(), max_norm=1.0) # Limitamos o tamanho máximo dos gradientes para a otimização não explodir.\n",
        "\n",
        "    optimizer.step() # Dá passos com o optimizer e scheduler para atualizar os pesos\n",
        "    scheduler.step()\n",
        "\n",
        "    optimizer.zero_grad() # Zera os gradientes para o próximo passo.\n",
        "\n",
        "  return np.mean(losses_list) # Vamos retornar a média das perdas para visualizarmos o desempenho do treino.\n",
        "\n",
        "\n",
        "def eval_model(model, data_loader, device):\n",
        "  model = model.eval() # Iniciamos o modo de avaliação\n",
        "\n",
        "  losses_list = [] # Listas para guardar os resultados.\n",
        "  preds_list = []\n",
        "  labels_list = []\n",
        "\n",
        "  with torch.no_grad(): # Desativamos o cálculo de gradientes pois não estamos treinando.\n",
        "    for d in data_loader:\n",
        "      input_ids = d[\"input_ids\"].to(device)\n",
        "      attention_mask = d[\"attention_mask\"].to(device)\n",
        "      label = d[\"label\"].to(device)\n",
        "\n",
        "      outputs = model( # Passamos entradas pelo modelo.\n",
        "          input_ids=input_ids,\n",
        "          attention_mask=attention_mask,\n",
        "          labels=label\n",
        "      )\n",
        "\n",
        "      loss = outputs.loss # Retiramos as informações importantes para avaliação.\n",
        "      logits = outputs.logits\n",
        "      losses_list.append(loss.item())\n",
        "\n",
        "      preds = torch.argmax(logits, dim=1).cpu().numpy()\n",
        "      labels_np = label.cpu().numpy()\n",
        "\n",
        "      preds_list.extend(preds)\n",
        "      labels_list.extend(labels_np)\n",
        "\n",
        "  return np.mean(losses_list), accuracy_score(labels_list, preds_list), f1_score(labels_list, preds_list, average='weighted') # Retornamos métricas importantes."
      ],
      "metadata": {
        "id": "ZeNOI5MZbm3C"
      },
      "execution_count": 16,
      "outputs": []
    },
    {
      "cell_type": "markdown",
      "source": [
        "Por fim, realizamos o loop de treinamento e avaliação do nosso modelo."
      ],
      "metadata": {
        "id": "MHDPhK3LnEBs"
      }
    },
    {
      "cell_type": "code",
      "source": [
        "best_acc = 0 # Inicializamos essa variável que será atualizada conforme a precisão for aumentando.\n",
        "\n",
        "for epoch in range(EPOCHS): # Loop que realizará o teste e avaliação para cada época.\n",
        "  print(f'- Epoch {epoch+1}/{EPOCHS}')\n",
        "\n",
        "  train_loss = train_epoch(model, train_data_loader, optimizer, device, scheduler) # Realizamos um treinamento.\n",
        "\n",
        "  print(f'Training Loss: {train_loss}')\n",
        "\n",
        "  val_loss, val_acc, val_f1 = eval_model(model, val_data_loader, device) # Realizamos uma avaliação\n",
        "\n",
        "  print(f'Validation Loss: {val_loss} \\nValidation Acc: {val_acc} \\nValidation_F1: {val_f1}')\n",
        "\n",
        "  if val_acc > best_acc: # Salvamos o melhor modelo que obtivemos. Não necessariamente o modelo sempre melhorará, por isso é importante checar se a precisão aumentou.\n",
        "    torch.save(model.state_dict(), 'best_model_state.bin')\n",
        "    best_acc = val_acc"
      ],
      "metadata": {
        "colab": {
          "base_uri": "https://localhost:8080/"
        },
        "id": "E4wtjqhxfl1e",
        "outputId": "44f9a091-a7c0-4b28-c06e-c4a9790f34bc"
      },
      "execution_count": 17,
      "outputs": [
        {
          "output_type": "stream",
          "name": "stdout",
          "text": [
            "- Epoch 1/4\n",
            "Training Loss: 0.37030093233075334\n",
            "Validation Loss: 0.18164978235655901 \n",
            "Validation Acc: 0.9415077435044157 \n",
            "Validation_F1: 0.9419867455401607\n",
            "- Epoch 2/4\n",
            "Training Loss: 0.17865486020944868\n",
            "Validation Loss: 0.16033332336465922 \n",
            "Validation Acc: 0.9471393830794829 \n",
            "Validation_F1: 0.9474659570207622\n",
            "- Epoch 3/4\n",
            "Training Loss: 0.16269879158635833\n",
            "Validation Loss: 0.15760679495882016 \n",
            "Validation Acc: 0.9482913093562012 \n",
            "Validation_F1: 0.9485543027331372\n",
            "- Epoch 4/4\n",
            "Training Loss: 0.15730557309133797\n",
            "Validation Loss: 0.15660026479436426 \n",
            "Validation Acc: 0.949187252015871 \n",
            "Validation_F1: 0.9494686368917173\n"
          ]
        }
      ]
    },
    {
      "cell_type": "markdown",
      "source": [
        "Assim, terminamos de construir o modelo de Análise de Sentimento, que em sua validação final obteve aproximadamente 0.95 tanto de F1 Score quanto de Precisão, o que indica excelente desempenho. Caso tal modelo fosse ser utilizado em uma aplicação real, poderíamos a partir daqui realizar inferências em datasets que não possuem labels, por exemplo, reviews que não possuem uma nota associada."
      ],
      "metadata": {
        "id": "TUgVxCyS438B"
      }
    },
    {
      "cell_type": "markdown",
      "source": [
        "# Bônus: Aspect Based Sentiment Analysis (ABSA)\n",
        "\n",
        "Para a solução do \"bônus supervalorizado\" mencionado, seria necessária a implementação de um modelo de ABSA, que identificaria diferentes aspectos dentro de cada review e realizaria análise de sentimento sobre cada um.\n",
        "\n",
        "Tal tarefa é de um grau de complexidade mais elevado quando comparado ao modelo simples de Análise Sentimental que preparei acima. Infelizmente, devido à compromissos acadêmicos relacionados à finalização e apresentação do meu projeto de Iniciação Científica, que coincidiu com o período deste desafio, não serei capaz de incluir a resolução completa.\n",
        "\n",
        "No entanto, baseado nos estudos que fiz para este desafio, irei incluir um outline de como eu resolveria esse problema.\n",
        "\n",
        "Para implementar a ABSA, é necessário construir dois modelos de NLP:\n",
        "- **ASPECT EXTRACTION:** Um responsável por percorrer as reviews e identificar tanto os aspectos presentes no texto e quais partes do texto se referem a qual aspecto.\n",
        "- **ASPECT SENTIMENT CLASSIFICATION:** Um modelo de Análise de Sentimento que percorreria o texto fragmentado pelo primeiro modelo e classificaria o sentimento relacionado a cada aspecto.\n",
        "\n",
        "Como labels baseados nos aspectos não existem no nosso dataframe, para cada um dos modelos seria necessário manualmente rotular parte dos dados com relação aos seus aspectos e o sentimento relacionado a eles, para então treinar o modelo a partir disso."
      ],
      "metadata": {
        "id": "tLFTvrmPyWuz"
      }
    }
  ]
}
